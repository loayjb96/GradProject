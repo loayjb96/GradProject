{
 "cells": [
  {
   "cell_type": "code",
   "execution_count": 2,
   "metadata": {},
   "outputs": [
    {
     "name": "stdout",
     "output_type": "stream",
     "text": [
      "<class 'pydub.audio_segment.AudioSegment'>\n"
     ]
    }
   ],
   "source": [
    "import os\n",
    "import pydub\n",
    "import glob\n",
    "mp3=glob.glob('*.mp3')\n",
    "mp3_file=mp3[0]\n",
    "# print(mp3_file)\n",
    "# print(mp3_file.)\n",
    "wav='fff'+'.wav'\n",
    "sound=pydub.AudioSegment.from_mp3(mp3_file)\n",
    "sound.export(wav,format=\"wav\") \n",
    "\n",
    "\n",
    "print(type(sound))    \n",
    "# mp3_to_wav()\n",
    "    \n",
    "\n",
    "  "
   ]
  },
  {
   "cell_type": "code",
   "execution_count": null,
   "metadata": {},
   "outputs": [],
   "source": []
  },
  {
   "cell_type": "code",
   "execution_count": null,
   "metadata": {},
   "outputs": [],
   "source": []
  }
 ],
 "metadata": {
  "kernelspec": {
   "display_name": "Python 3",
   "language": "python",
   "name": "python3"
  },
  "language_info": {
   "codemirror_mode": {
    "name": "ipython",
    "version": 3
   },
   "file_extension": ".py",
   "mimetype": "text/x-python",
   "name": "python",
   "nbconvert_exporter": "python",
   "pygments_lexer": "ipython3",
   "version": "3.6.6"
  }
 },
 "nbformat": 4,
 "nbformat_minor": 2
}
