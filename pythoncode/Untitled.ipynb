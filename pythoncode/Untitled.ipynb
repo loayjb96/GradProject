{
 "cells": [
  {
   "cell_type": "code",
   "execution_count": 4,
   "metadata": {},
   "outputs": [],
   "source": [
    "import os\n",
    "import pydub\n",
    "import glob\n",
    "\n",
    "def mp3_to_wav():\n",
    "    mp3=glob.glob('./*.mp3')\n",
    "    for mp3_file in mp3:\n",
    "        wav=os.path.splitext(mp3_file)[0]+'.wav'\n",
    "        sound=pydub.AudioSegment.from_mp3(mp3_file)\n",
    "        sound.export(wav,format=\"wav\") \n",
    "        \n",
    "mp3_to_wav()\n",
    "    \n",
    "\n",
    "  \n"
   ]
  },
  {
   "cell_type": "code",
   "execution_count": 2,
   "metadata": {},
   "outputs": [],
   "source": [
    "import librosa    \n",
    "import os\n",
    "import pydub\n",
    "import glob\n",
    "def downsample():\n",
    "    mp3=glob.glob('./*.wav')\n",
    "    for mp3_file in mp3:\n",
    "        y, sr = librosa.load(mp3_file, sr=8000) # Downsample to 8kHz\n",
    "        librosa.output.write_wav(mp3_file, y, sr)\n",
    "downsample()        "
   ]
  }
 ],
 "metadata": {
  "kernelspec": {
   "display_name": "Python 3",
   "language": "python",
   "name": "python3"
  },
  "language_info": {
   "codemirror_mode": {
    "name": "ipython",
    "version": 3
   },
   "file_extension": ".py",
   "mimetype": "text/x-python",
   "name": "python",
   "nbconvert_exporter": "python",
   "pygments_lexer": "ipython3",
   "version": "3.6.6"
  }
 },
 "nbformat": 4,
 "nbformat_minor": 2
}
