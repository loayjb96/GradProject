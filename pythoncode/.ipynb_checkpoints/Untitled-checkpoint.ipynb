{
 "cells": [
  {
   "cell_type": "code",
   "execution_count": 16,
   "metadata": {},
   "outputs": [
    {
     "ename": "SyntaxError",
     "evalue": "EOL while scanning string literal (<ipython-input-16-a138c1ecde24>, line 14)",
     "output_type": "error",
     "traceback": [
      "\u001b[1;36m  File \u001b[1;32m\"<ipython-input-16-a138c1ecde24>\"\u001b[1;36m, line \u001b[1;32m14\u001b[0m\n\u001b[1;33m    sound = AudioSegment.from_mp3('./BMWDRIVEBY.mp3'')\u001b[0m\n\u001b[1;37m                                                      ^\u001b[0m\n\u001b[1;31mSyntaxError\u001b[0m\u001b[1;31m:\u001b[0m EOL while scanning string literal\n"
     ]
    }
   ],
   "source": [
    "# import os\n",
    "# import pydub\n",
    "# import glob\n",
    "mp3=glob.glob('./*.mp3')\n",
    "\n",
    "# # wav=os.path.splitext(mp3)[0]+'.wav'\n",
    "# sound=pydub.AudioSegment.from_mp3(mp3)\n",
    "# sound.export('wav',format=\"wav\") \n",
    "        \n",
    "# # mp3_to_wav()\n",
    "# print(len(mp3))\n",
    "\n",
    "from pydub import AudioSegment\n",
    "sound = AudioSegment.from_mp3('./BMWDRIVEBY.mp3')\n",
    "sound.export(\"./fff\", format=\"wav\")\n"
   ]
  },
  {
   "cell_type": "code",
   "execution_count": 2,
   "metadata": {},
   "outputs": [],
   "source": [
    "import librosa    \n",
    "import os\n",
    "import pydub\n",
    "import glob\n",
    "def downsample():\n",
    "    mp3=glob.glob('./*.wav')\n",
    "    for mp3_file in mp3:\n",
    "        y, sr = librosa.load(mp3_file, sr=8000) # Downsample to 8kHz\n",
    "        librosa.output.write_wav(mp3_file, y, sr)\n",
    "downsample()        "
   ]
  }
 ],
 "metadata": {
  "kernelspec": {
   "display_name": "Python 3",
   "language": "python",
   "name": "python3"
  },
  "language_info": {
   "codemirror_mode": {
    "name": "ipython",
    "version": 3
   },
   "file_extension": ".py",
   "mimetype": "text/x-python",
   "name": "python",
   "nbconvert_exporter": "python",
   "pygments_lexer": "ipython3",
   "version": "3.6.6"
  }
 },
 "nbformat": 4,
 "nbformat_minor": 2
}
